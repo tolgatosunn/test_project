{
 "cells": [
  {
   "cell_type": "code",
   "execution_count": 20,
   "id": "491d21c4-611c-432a-89b1-645b4b1c1389",
   "metadata": {},
   "outputs": [
    {
     "name": "stdout",
     "output_type": "stream",
     "text": [
      "The line_profiler extension is already loaded. To reload it, use:\n",
      "  %reload_ext line_profiler\n"
     ]
    }
   ],
   "source": [
    "%load_ext line_profiler\n",
    "from floyd_recursion import floyd, graph_creator\n",
    "from geeks_floyd import floydWarshall"
   ]
  },
  {
   "cell_type": "code",
   "execution_count": 17,
   "id": "01fa69d3-bf55-4dbe-9b86-234e1e4bda88",
   "metadata": {},
   "outputs": [
    {
     "name": "stdout",
     "output_type": "stream",
     "text": [
      "       0        4        4        3 \n",
      "       8        0        4        3 \n",
      "      12        4        0        3 \n",
      "       9        1        1        0 \n"
     ]
    },
    {
     "data": {
      "text/plain": [
       "Timer unit: 1e-07 s\n",
       "\n",
       "Total time: 0.0003764 s\n",
       "File: C:\\Users\\tolga\\Desktop\\TheFolder\\Master\\University of Liverpool\\2_Software Development in Practise\\Week_5\\Floyd_Final\\floyd_recursion.py\n",
       "Function: floyd at line 91\n",
       "\n",
       "Line #      Hits         Time  Per Hit   % Time  Line Contents\n",
       "==============================================================\n",
       "    91                                           def floyd(distance, intermediate_node=0):\n",
       "    92                                               \"\"\"\n",
       "    93                                               This function is a recursion implementation of Floyd's algorithm.\n",
       "    94                                           \n",
       "    95                                               Input: \"distance\" is a graph produced by the \"graph_creator\" function.\n",
       "    96                                                       \"intermediate_node\" is 0 by default.\n",
       "    97                                           \n",
       "    98                                               Process: The function finds the shortest distance between nodes\n",
       "    99                                               and prints it.\n",
       "   100                                           \n",
       "   101                                               Output: is printed distance graph.\n",
       "   102                                           \n",
       "   103                                               \"\"\"\n",
       "   104                                           \n",
       "   105         5         59.0     11.8      1.6      start_nodes = end_nodes = list(range(len(distance[0])))\n",
       "   106         5         16.0      3.2      0.4      graph_range = len(distance[0])\n",
       "   107                                           \n",
       "   108         4         14.0      3.5      0.4      if intermediate_node < graph_range:\n",
       "   109                                                   # The function is to be run until \"intermediate_node\"\n",
       "   110                                                   # reaches the graph_range\n",
       "   111                                           \n",
       "   112        16         43.0      2.7      1.1          for start_node in start_nodes:\n",
       "   113        64        210.0      3.3      5.6              for end_node in end_nodes:\n",
       "   114                                                           # The iteration will be proceeded for each \"start_node\"\n",
       "   115                                                           # in \"start_nodes\" and each \"end_node\" in \"end_nodes\"\n",
       "   116                                           \n",
       "   117        64        228.0      3.6      6.1                  if distance[start_node][end_node] >\\\n",
       "   118        64        197.0      3.1      5.2                          distance[start_node][intermediate_node]\\\n",
       "   119        64        190.0      3.0      5.0                          + distance[intermediate_node][end_node]:\n",
       "   120                                                               # if current distance from start node to end node\n",
       "   121                                                               # is longer than the distance through an intermediate node.\n",
       "   122                                                               # The distance will be updated with the distance\n",
       "   123                                                               # through an intermediate node.\n",
       "   124                                           \n",
       "   125         9         31.0      3.4      0.8                      distance[start_node][end_node] =\\\n",
       "   126         9         30.0      3.3      0.8                              distance[start_node][intermediate_node] \\\n",
       "   127         9         30.0      3.3      0.8                              + distance[intermediate_node][end_node]\n",
       "   128                                           \n",
       "   129                                                   # Until intermediate_node reaches the graph_size, floyd function\n",
       "   130                                                   # will be run by increasing intermediate_node by 1.\n",
       "   131                                                   # And, also updated distance graph will be use as the input.\n",
       "   132         4         27.0      6.8      0.7          return floyd(distance, intermediate_node + 1)\n",
       "   133                                           \n",
       "   134                                               # When intermediate_node reaches the graph_size, distance graph\n",
       "   135                                               # will be printed by printSolution function.\n",
       "   136         1       2687.0   2687.0     71.4      print_graph(distance)\n",
       "   137         1          2.0      2.0      0.1      return None"
      ]
     },
     "metadata": {},
     "output_type": "display_data"
    }
   ],
   "source": [
    "graph_size = 4\n",
    "graph_param = graph_creator(graph_size)\n",
    "\n",
    "%lprun -f floyd floyd(graph_param,intermediate_node=0)"
   ]
  },
  {
   "cell_type": "code",
   "execution_count": 30,
   "id": "95b8f0eb-3d96-45bf-908a-ef56a36daec3",
   "metadata": {},
   "outputs": [
    {
     "name": "stdout",
     "output_type": "stream",
     "text": [
      "Following matrix shows the shortest distances between every pair of vertices\n",
      "      0\t       9\t       3\t       4\t \n",
      "      2\t       0\t       5\t       3\t \n",
      "      3\t       6\t       0\t       5\t \n",
      "      3\t       7\t       5\t       0\t \n"
     ]
    },
    {
     "data": {
      "text/plain": [
       "Timer unit: 1e-07 s\n",
       "\n",
       "Total time: 0.0004181 s\n",
       "File: C:\\Users\\tolga\\Desktop\\TheFolder\\Master\\University of Liverpool\\2_Software Development in Practise\\Week_5\\Floyd_Final\\geeks_floyd.py\n",
       "Function: floydWarshall at line 15\n",
       "\n",
       "Line #      Hits         Time  Per Hit   % Time  Line Contents\n",
       "==============================================================\n",
       "    15                                           def floydWarshall(graph):\n",
       "    16                                               \"\"\" dist[][] will be the output\n",
       "    17                                                  matrix that will finally\n",
       "    18                                                   have the shortest distances\n",
       "    19                                                   between every pair of vertices \"\"\"\n",
       "    20                                               \"\"\" initializing the solution matrix\n",
       "    21                                               same as input graph matrix\n",
       "    22                                               OR we can say that the initial\n",
       "    23                                               values of shortest distances\n",
       "    24                                               are based on shortest paths considering no\n",
       "    25                                               intermediate vertices \"\"\"\n",
       "    26                                            \n",
       "    27         1        283.0    283.0      6.8      dist = list(map(lambda i: list(map(lambda j: j, i)), graph))\n",
       "    28                                            \n",
       "    29                                               \"\"\" Add all vertices one by one\n",
       "    30                                               to the set of intermediate\n",
       "    31                                                vertices.\n",
       "    32                                                ---> Before start of an iteration,\n",
       "    33                                                we have shortest distances\n",
       "    34                                                between all pairs of vertices\n",
       "    35                                                such that the shortest\n",
       "    36                                                distances consider only the\n",
       "    37                                                vertices in the set\n",
       "    38                                               {0, 1, 2, .. k-1} as intermediate vertices.\n",
       "    39                                                 ----> After the end of a\n",
       "    40                                                 iteration, vertex no. k is\n",
       "    41                                                added to the set of intermediate\n",
       "    42                                                vertices and the\n",
       "    43                                               set becomes {0, 1, 2, .. k}\n",
       "    44                                               \"\"\"\n",
       "    45         4         31.0      7.8      0.7      for k in range(V):\n",
       "    46                                            \n",
       "    47                                                   # pick all vertices as source one by one\n",
       "    48        16         88.0      5.5      2.1          for i in range(V):\n",
       "    49                                            \n",
       "    50                                                       # Pick all vertices as destination for the\n",
       "    51                                                       # above picked source\n",
       "    52        64        288.0      4.5      6.9              for j in range(V):\n",
       "    53                                            \n",
       "    54                                                           # If vertex k is on the shortest path from\n",
       "    55                                                           # i to j, then update the value of dist[i][j]\n",
       "    56        64        458.0      7.2     11.0                  dist[i][j] = min(dist[i][j],\n",
       "    57        64        385.0      6.0      9.2                                   dist[i][k] + dist[k][j]\n",
       "    58                                                                            )\n",
       "    59         1       2648.0   2648.0     63.3      printSolution(dist)"
      ]
     },
     "metadata": {},
     "output_type": "display_data"
    }
   ],
   "source": [
    "graph_size = 4\n",
    "graph_param = graph_creator(graph_size)\n",
    "\n",
    "%lprun -f floydWarshall floydWarshall(graph_param)"
   ]
  }
 ],
 "metadata": {
  "kernelspec": {
   "display_name": "Python 3 (ipykernel)",
   "language": "python",
   "name": "python3"
  },
  "language_info": {
   "codemirror_mode": {
    "name": "ipython",
    "version": 3
   },
   "file_extension": ".py",
   "mimetype": "text/x-python",
   "name": "python",
   "nbconvert_exporter": "python",
   "pygments_lexer": "ipython3",
   "version": "3.8.16"
  }
 },
 "nbformat": 4,
 "nbformat_minor": 5
}
