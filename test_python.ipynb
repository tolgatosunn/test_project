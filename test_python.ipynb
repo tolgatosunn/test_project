{
 "cells": [
  {
   "cell_type": "code",
   "execution_count": 5,
   "id": "2833d261-dfb3-44e9-9433-53df3dc04b98",
   "metadata": {},
   "outputs": [
    {
     "name": "stdin",
     "output_type": "stream",
     "text": [
      "Enter your temperature:  1\n"
     ]
    },
    {
     "name": "stdout",
     "output_type": "stream",
     "text": [
      "1.0\n",
      "<class 'float'>\n",
      "2.5\n"
     ]
    }
   ],
   "source": [
    "'''\n",
    "Simple Temperature Calculation!\n",
    "'''\n",
    "temperature = input(\"Enter your temperature: \")\n",
    "temperature = float(temperature)\n",
    "print(temperature)\n",
    "temperature = temperature + 1.5\n",
    "print(type(temperature))\n",
    "print(temperature)"
   ]
  }
 ],
 "metadata": {
  "kernelspec": {
   "display_name": "Python 3 (ipykernel)",
   "language": "python",
   "name": "python3"
  },
  "language_info": {
   "codemirror_mode": {
    "name": "ipython",
    "version": 3
   },
   "file_extension": ".py",
   "mimetype": "text/x-python",
   "name": "python",
   "nbconvert_exporter": "python",
   "pygments_lexer": "ipython3",
   "version": "3.8.16"
  }
 },
 "nbformat": 4,
 "nbformat_minor": 5
}
